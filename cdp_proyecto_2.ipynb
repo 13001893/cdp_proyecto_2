{
 "cells": [
  {
   "cell_type": "markdown",
   "metadata": {},
   "source": [
    "# Proyecto 2\n",
    "## Ciencias de Datos en Python\n",
    "\n",
    "- Diego Morales - 13001893\n",
    "- Jerry Rivera - 24005123"
   ]
  },
  {
   "cell_type": "code",
   "execution_count": 1,
   "metadata": {},
   "outputs": [],
   "source": [
    "import boto3\n",
    "import pandas as pd\n",
    "import numpy as np\n",
    "import configparser\n",
    "import psycopg2"
   ]
  },
  {
   "cell_type": "markdown",
   "metadata": {},
   "source": [
    "## Inicialización"
   ]
  },
  {
   "cell_type": "code",
   "execution_count": 2,
   "metadata": {},
   "outputs": [],
   "source": [
    "config = configparser.ConfigParser()\n",
    "config.read('config.cfg')\n",
    "\n",
    "aws_rds_conn = boto3.client('rds', aws_access_key_id=config.get('IAM', 'ACCESS_KEY'),\n",
    "                           aws_secret_access_key=config.get('IAM', 'SECRET_KEY'),\n",
    "                           region_name='us-east-1')"
   ]
  },
  {
   "cell_type": "markdown",
   "metadata": {},
   "source": [
    "## Creación de instancia"
   ]
  },
  {
   "cell_type": "code",
   "execution_count": null,
   "metadata": {},
   "outputs": [],
   "source": [
    "try:\n",
    "    response = aws_rds_conn.create_db_instance(\n",
    "                            DBInstanceIdentifier=config.get('SAKILA', 'DB_INSTANCE_ID'),\n",
    "                            DBName=config.get('SAKILA', 'DB_NAME'),\n",
    "                            MasterUsername=config.get('SAKILA', 'DB_USERNAME'),\n",
    "                            MasterUserPassword=config.get('SAKILA', 'DB_PASSWORD'),\n",
    "                            Port=int(config.get('SAKILA', 'DB_PORT')),\n",
    "                            DBInstanceClass='db.t3.micro',\n",
    "                            Engine='postgres',\n",
    "                            PubliclyAccessible=True,\n",
    "                            AllocatedStorage=20,\n",
    "                            VpcSecurityGroupIds=[config.get('VPC', 'SECURITY_GROUP')]\n",
    "                            )\n",
    "    print(response)\n",
    "except aws_rds_conn.exceptions.DBInstanceAlreadyExistsFault:\n",
    "    print('La instancia ya existe')\n",
    "except Exception as ex:\n",
    "    print('Error', ex)"
   ]
  },
  {
   "cell_type": "markdown",
   "metadata": {},
   "source": [
    "## Obtención de instancia"
   ]
  },
  {
   "cell_type": "code",
   "execution_count": 3,
   "metadata": {},
   "outputs": [
    {
     "name": "stdout",
     "output_type": "stream",
     "text": [
      "sakila-db-pg.clcwc6cec8sd.us-east-1.rds.amazonaws.com\n"
     ]
    }
   ],
   "source": [
    "try:\n",
    "    instance = aws_rds_conn.describe_db_instances(DBInstanceIdentifier=config.get('SAKILA', 'DB_INSTANCE_ID'))\n",
    "    RDS_HOSTNAME = instance.get('DBInstances')[0].get('Endpoint').get('Address')\n",
    "    print(RDS_HOSTNAME)\n",
    "except Exception as ex:\n",
    "    print('Error', ex)"
   ]
  },
  {
   "cell_type": "markdown",
   "metadata": {},
   "source": [
    "## Conexión a base de datos"
   ]
  },
  {
   "cell_type": "code",
   "execution_count": 4,
   "metadata": {},
   "outputs": [
    {
     "name": "stdout",
     "output_type": "stream",
     "text": [
      "Error type \"datetime\" does not exist\n",
      "LINE 67:  fecha DATETIME,\n",
      "                ^\n",
      "\n"
     ]
    }
   ],
   "source": [
    "import ddl as query\n",
    "\n",
    "try:\n",
    "    db_pg_conn = psycopg2.connect(\n",
    "                    database=config.get('SAKILA', 'DB_NAME'),\n",
    "                    user=config.get('SAKILA', 'DB_USERNAME'),\n",
    "                    password=config.get('SAKILA', 'DB_PASSWORD'),\n",
    "                    port=config.get('SAKILA', 'DB_PORT'),\n",
    "                    host=RDS_HOSTNAME\n",
    "    )\n",
    "    cursor = db_pg_conn.cursor()\n",
    "    cursor.execute(query.DDL_QUERY)\n",
    "    db_pg_conn.commit()\n",
    "except Exception as ex:\n",
    "    print('Error', ex)"
   ]
  }
 ],
 "metadata": {
  "kernelspec": {
   "display_name": "base",
   "language": "python",
   "name": "python3"
  },
  "language_info": {
   "codemirror_mode": {
    "name": "ipython",
    "version": 3
   },
   "file_extension": ".py",
   "mimetype": "text/x-python",
   "name": "python",
   "nbconvert_exporter": "python",
   "pygments_lexer": "ipython3",
   "version": "3.11.5"
  }
 },
 "nbformat": 4,
 "nbformat_minor": 2
}
