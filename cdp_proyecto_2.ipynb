{
 "cells": [
  {
   "cell_type": "markdown",
   "metadata": {},
   "source": [
    "# Proyecto 2\n",
    "## Ciencias de Datos en Python\n",
    "\n",
    "- Diego Morales - 13001893\n",
    "- Jerry Rivera - 24005123"
   ]
  },
  {
   "cell_type": "code",
   "execution_count": 6,
   "metadata": {},
   "outputs": [
    {
     "ename": "ModuleNotFoundError",
     "evalue": "No module named 'sql_queries_2'",
     "output_type": "error",
     "traceback": [
      "\u001b[0;31m---------------------------------------------------------------------------\u001b[0m",
      "\u001b[0;31mModuleNotFoundError\u001b[0m                       Traceback (most recent call last)",
      "Cell \u001b[0;32mIn[6], line 6\u001b[0m\n\u001b[1;32m      4\u001b[0m \u001b[38;5;28;01mimport\u001b[39;00m \u001b[38;5;21;01mconfigparser\u001b[39;00m\n\u001b[1;32m      5\u001b[0m \u001b[38;5;28;01mimport\u001b[39;00m \u001b[38;5;21;01mpsycopg2\u001b[39;00m\n\u001b[0;32m----> 6\u001b[0m \u001b[38;5;28;01mimport\u001b[39;00m \u001b[38;5;21;01msql_queries_2\u001b[39;00m \u001b[38;5;28;01mas\u001b[39;00m \u001b[38;5;21;01mquery\u001b[39;00m\n",
      "\u001b[0;31mModuleNotFoundError\u001b[0m: No module named 'sql_queries_2'"
     ]
    }
   ],
   "source": [
    "import boto3\n",
    "import pandas as pd\n",
    "import numpy as np\n",
    "import configparser\n",
    "import psycopg2"
   ]
  },
  {
   "cell_type": "markdown",
   "metadata": {},
   "source": [
    "## Inicialización"
   ]
  },
  {
   "cell_type": "code",
   "execution_count": 3,
   "metadata": {},
   "outputs": [
    {
     "name": "stdout",
     "output_type": "stream",
     "text": [
      "{'DBInstance': {'DBInstanceIdentifier': 'sakila-db-pg', 'DBInstanceClass': 'db.t3.micro', 'Engine': 'postgres', 'DBInstanceStatus': 'creating', 'MasterUsername': 'admin_postgres', 'DBName': 'sakila', 'AllocatedStorage': 20, 'PreferredBackupWindow': '07:11-07:41', 'BackupRetentionPeriod': 1, 'DBSecurityGroups': [], 'VpcSecurityGroups': [{'VpcSecurityGroupId': 'sg-0b4d5bb09a6396352', 'Status': 'active'}], 'DBParameterGroups': [{'DBParameterGroupName': 'default.postgres16', 'ParameterApplyStatus': 'in-sync'}], 'DBSubnetGroup': {'DBSubnetGroupName': 'default', 'DBSubnetGroupDescription': 'default', 'VpcId': 'vpc-069af3dd3aa36b4d8', 'SubnetGroupStatus': 'Complete', 'Subnets': [{'SubnetIdentifier': 'subnet-02d2d39959fbcddb6', 'SubnetAvailabilityZone': {'Name': 'us-east-1b'}, 'SubnetOutpost': {}, 'SubnetStatus': 'Active'}, {'SubnetIdentifier': 'subnet-032422906c9f500fb', 'SubnetAvailabilityZone': {'Name': 'us-east-1f'}, 'SubnetOutpost': {}, 'SubnetStatus': 'Active'}, {'SubnetIdentifier': 'subnet-0fee80b9f379fac09', 'SubnetAvailabilityZone': {'Name': 'us-east-1c'}, 'SubnetOutpost': {}, 'SubnetStatus': 'Active'}, {'SubnetIdentifier': 'subnet-0c0d8bff3d8eb2951', 'SubnetAvailabilityZone': {'Name': 'us-east-1a'}, 'SubnetOutpost': {}, 'SubnetStatus': 'Active'}, {'SubnetIdentifier': 'subnet-039970a1093767eaa', 'SubnetAvailabilityZone': {'Name': 'us-east-1d'}, 'SubnetOutpost': {}, 'SubnetStatus': 'Active'}, {'SubnetIdentifier': 'subnet-0cdf930dee644f1d4', 'SubnetAvailabilityZone': {'Name': 'us-east-1e'}, 'SubnetOutpost': {}, 'SubnetStatus': 'Active'}]}, 'PreferredMaintenanceWindow': 'tue:05:21-tue:05:51', 'PendingModifiedValues': {'MasterUserPassword': '****'}, 'MultiAZ': False, 'EngineVersion': '16.1', 'AutoMinorVersionUpgrade': True, 'ReadReplicaDBInstanceIdentifiers': [], 'LicenseModel': 'postgresql-license', 'OptionGroupMemberships': [{'OptionGroupName': 'default:postgres-16', 'Status': 'in-sync'}], 'PubliclyAccessible': True, 'StorageType': 'gp2', 'DbInstancePort': 0, 'StorageEncrypted': False, 'DbiResourceId': 'db-YHE3GSBG64PMFLKN3LJSROC7E4', 'CACertificateIdentifier': 'rds-ca-rsa2048-g1', 'DomainMemberships': [], 'CopyTagsToSnapshot': False, 'MonitoringInterval': 0, 'DBInstanceArn': 'arn:aws:rds:us-east-1:590183781469:db:sakila-db-pg', 'IAMDatabaseAuthenticationEnabled': False, 'PerformanceInsightsEnabled': False, 'DeletionProtection': False, 'AssociatedRoles': [], 'TagList': [], 'CustomerOwnedIpEnabled': False, 'BackupTarget': 'region', 'NetworkType': 'IPV4', 'StorageThroughput': 0, 'CertificateDetails': {'CAIdentifier': 'rds-ca-rsa2048-g1'}, 'DedicatedLogVolume': False}, 'ResponseMetadata': {'RequestId': '1bb0aa7a-63f3-49b5-984c-8b6d755bc3ac', 'HTTPStatusCode': 200, 'HTTPHeaders': {'x-amzn-requestid': '1bb0aa7a-63f3-49b5-984c-8b6d755bc3ac', 'strict-transport-security': 'max-age=31536000', 'content-type': 'text/xml', 'content-length': '4052', 'date': 'Tue, 09 Apr 2024 00:54:03 GMT'}, 'RetryAttempts': 0}}\n"
     ]
    }
   ],
   "source": [
    "config = configparser.ConfigParser()\n",
    "config.read('config.cfg')\n",
    "\n",
    "aws_rds_conn = boto3.client('rds', aws_access_key_id=config.get('IAM', 'ACCESS_KEY'),\n",
    "                           aws_secret_access_key=config.get('IAM', 'SECRET_KEY'),\n",
    "                           region_name='us-east-1')\n",
    "\n",
    "try:\n",
    "    response = aws_rds_conn.create_db_instance(\n",
    "                            DBInstanceIdentifier=config.get('SAKILA', 'DB_INSTANCE_ID'),\n",
    "                            DBName=config.get('SAKILA', 'DB_NAME'),\n",
    "                            MasterUsername=config.get('SAKILA', 'DB_USERNAME'),\n",
    "                            MasterUserPassword=config.get('SAKILA', 'DB_PASSWORD'),\n",
    "                            Port=int(config.get('SAKILA', 'DB_PORT')),\n",
    "                            DBInstanceClass='db.t3.micro',\n",
    "                            Engine='postgres',\n",
    "                            PubliclyAccessible=True,\n",
    "                            AllocatedStorage=20,\n",
    "                            VpcSecurityGroupIds=[config.get('VPC', 'SECURITY_GROUP')]\n",
    "                            )\n",
    "    print(response)\n",
    "except aws_rds_conn.exceptions.DBInstanceAlreadyExistsFault:\n",
    "    print('La instancia ya existe')\n",
    "except Exception as ex:\n",
    "    print('Error', ex)\n"
   ]
  },
  {
   "cell_type": "markdown",
   "metadata": {},
   "source": [
    "## Obtención de instancia"
   ]
  },
  {
   "cell_type": "code",
   "execution_count": 5,
   "metadata": {},
   "outputs": [
    {
     "name": "stdout",
     "output_type": "stream",
     "text": [
      "sakila-db-pg.clcwc6cec8sd.us-east-1.rds.amazonaws.com\n"
     ]
    }
   ],
   "source": [
    "try:\n",
    "    instance = aws_rds_conn.describe_db_instances(DBInstanceIdentifier=config.get('SAKILA', 'DB_INSTANCE_ID'))\n",
    "    RDS_HOSTNAME = instance.get('DBInstances')[0].get('Endpoint').get('Address')\n",
    "    print(RDS_HOSTNAME)\n",
    "except Exception as ex:\n",
    "    print('Error', ex)"
   ]
  },
  {
   "cell_type": "markdown",
   "metadata": {},
   "source": [
    "## Conexión a base de datos"
   ]
  },
  {
   "cell_type": "code",
   "execution_count": 11,
   "metadata": {},
   "outputs": [
    {
     "name": "stdout",
     "output_type": "stream",
     "text": [
      "Error syntax error at or near \"EXIST\"\n",
      "LINE 57: CREATE TABLE IF NOT EXIST detalle_ingreso(\n",
      "                             ^\n",
      "\n"
     ]
    }
   ],
   "source": [
    "import ddl as query\n",
    "\n",
    "try:\n",
    "    db_pg_conn = psycopg2.connect(\n",
    "                    database=config.get('SAKILA', 'DB_NAME'),\n",
    "                    user=config.get('SAKILA', 'DB_USERNAME'),\n",
    "                    password=config.get('SAKILA', 'DB_PASSWORD'),\n",
    "                    port=config.get('SAKILA', 'DB_PORT'),\n",
    "                    host=RDS_HOSTNAME\n",
    "    )\n",
    "    cursor = db_pg_conn.cursor()\n",
    "    cursor.execute(query.DDL_QUERY)\n",
    "    db_pg_conn.commit()\n",
    "except Exception as ex:\n",
    "    print('Error', ex)"
   ]
  }
 ],
 "metadata": {
  "kernelspec": {
   "display_name": "base",
   "language": "python",
   "name": "python3"
  },
  "language_info": {
   "codemirror_mode": {
    "name": "ipython",
    "version": 3
   },
   "file_extension": ".py",
   "mimetype": "text/x-python",
   "name": "python",
   "nbconvert_exporter": "python",
   "pygments_lexer": "ipython3",
   "version": "3.11.5"
  }
 },
 "nbformat": 4,
 "nbformat_minor": 2
}
